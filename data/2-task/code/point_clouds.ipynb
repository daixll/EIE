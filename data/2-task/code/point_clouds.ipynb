{
 "cells": [
  {
   "cell_type": "code",
   "execution_count": null,
   "id": "75e8058e",
   "metadata": {},
   "outputs": [
    {
     "ename": "",
     "evalue": "",
     "output_type": "error",
     "traceback": [
      "\u001b[1;31m运行具有“data (Python 3.8.20)”的单元格需要ipykernel包。\n",
      "\u001b[1;31m运行以下命令，将 \"ipykernel\" 安装到 Python 环境中。\n",
      "\u001b[1;31m命令: \"conda install -n data ipykernel --update-deps --force-reinstall\""
     ]
    }
   ],
   "source": [
    "import sys\n",
    "print(sys.version)\n",
    "print(sys.executable)\n"
   ]
  },
  {
   "cell_type": "code",
   "execution_count": null,
   "id": "088941d0",
   "metadata": {},
   "outputs": [
    {
     "ename": "",
     "evalue": "",
     "output_type": "error",
     "traceback": [
      "\u001b[1;31m运行具有“data (Python 3.8.20)”的单元格需要ipykernel包。\n",
      "\u001b[1;31m运行以下命令，将 \"ipykernel\" 安装到 Python 环境中。\n",
      "\u001b[1;31m命令: \"conda install -n data ipykernel --update-deps --force-reinstall\""
     ]
    }
   ],
   "source": [
    "import open3d as o3d\n",
    "import numpy as np\n",
    "\n",
    "print(\"->正在加载点云... \")\n",
    "pcd = o3d.io.read_point_cloud(\"imgs/rabbit.pcd\")\n",
    "print(pcd)\n",
    "\n",
    "print(\"->正在保存点云\")\n",
    "o3d.io.write_point_cloud(\"imgs/write.pcd\", pcd)\t# 默认false，保存为Binarty；True 保存为ASICC形式\n",
    "print(pcd)\n"
   ]
  },
  {
   "cell_type": "code",
   "execution_count": null,
   "id": "1f74b142",
   "metadata": {},
   "outputs": [
    {
     "ename": "",
     "evalue": "",
     "output_type": "error",
     "traceback": [
      "\u001b[1;31m运行具有“data (Python 3.8.20)”的单元格需要ipykernel包。\n",
      "\u001b[1;31m运行以下命令，将 \"ipykernel\" 安装到 Python 环境中。\n",
      "\u001b[1;31m命令: \"conda install -n data ipykernel --update-deps --force-reinstall\""
     ]
    }
   ],
   "source": [
    "import glfw\n",
    "\n",
    "if not glfw.init():\n",
    "    print(\"Failed to initialize GLFW\")\n",
    "else:\n",
    "    print(\"GLFW initialized successfully\")\n",
    "    glfw.terminate()\n"
   ]
  },
  {
   "cell_type": "code",
   "execution_count": 9,
   "id": "ae6a8b16",
   "metadata": {},
   "outputs": [
    {
     "name": "stdout",
     "output_type": "stream",
     "text": [
      "\u001b[1;33m[Open3D WARNING] GLFW Error: Failed to detect any supported platform\u001b[0;m\n",
      "\u001b[1;33m[Open3D WARNING] Failed to initialize GLFW\u001b[0;m\n",
      "\u001b[1;33m[Open3D WARNING] [DrawGeometries] Failed creating OpenGL window.\u001b[0;m\n"
     ]
    }
   ],
   "source": [
    "# 可视化\n",
    "o3d.visualization.draw_geometries([pcd])\n"
   ]
  },
  {
   "cell_type": "code",
   "execution_count": 4,
   "id": "8a4f7ee6",
   "metadata": {},
   "outputs": [
    {
     "name": "stdout",
     "output_type": "stream",
     "text": [
      "->正在加载点云2...\n",
      "PointCloud with 40097 points.\n",
      "->正在同时可视化两个点云...\n"
     ]
    }
   ],
   "source": [
    "# 可视化多个点云\n",
    "\n",
    "print(\"->正在加载点云2...\")\n",
    "pcd1 = o3d.io.read_point_cloud(\"imgs/bun045.pcd\")\n",
    "print(pcd1)\n",
    "\n",
    "print(\"->正在同时可视化两个点云...\")\n",
    "o3d.visualization.draw_geometries([pcd, pcd1])\n"
   ]
  },
  {
   "cell_type": "code",
   "execution_count": 5,
   "id": "117d818c",
   "metadata": {},
   "outputs": [],
   "source": [
    "# 法线估计\n",
    "radius = 0.01   # 搜索半径\n",
    "max_nn = 30     # 邻域内用于估算法线的最大点数\n",
    "pcd.estimate_normals(search_param=o3d.geometry.KDTreeSearchParamHybrid(radius, max_nn))     # 执行法线估计\n",
    "\n",
    "# 可视化\n",
    "o3d.visualization.draw_geometries([pcd], \n",
    "                                  window_name = \"可视化参数设置\",\n",
    "                                  width = 600,\n",
    "                                  height = 450,\n",
    "                                  left = 30,\n",
    "                                  top = 30,\n",
    "                                  point_show_normal = True)\n"
   ]
  },
  {
   "cell_type": "code",
   "execution_count": 6,
   "id": "d24df810",
   "metadata": {},
   "outputs": [
    {
     "name": "stdout",
     "output_type": "stream",
     "text": [
      "使用K近邻，将第1500个点最近的5000个点设置为蓝色\n",
      "k邻域内的点数为： 5000\n",
      "使用半径R近邻，将第15000个点半径（0.02）范围内的点设置为红色\n",
      "半径r邻域内的点数为： 751\n",
      "使用混合邻域，将第15000个点半径R邻域内不超过max_num个点设置为绿色\n",
      "混合邻域内的点数为： 200\n",
      "->正在可视化点云...\n"
     ]
    }
   ],
   "source": [
    "# k-d tree\n",
    "\n",
    "# 将点云设置为灰色\n",
    "pcd.paint_uniform_color([0.5, 0.5, 0.5])\n",
    "\n",
    "# 建立KDTree\n",
    "pcd_tree = o3d.geometry.KDTreeFlann(pcd)\n",
    "\n",
    "# 将第1500个点设置为紫色\n",
    "pcd.colors[1500] = [0.5, 0, 0.5]\n",
    "\n",
    "# 使用K近邻，将第1500个点最近的5000个点设置为蓝色\n",
    "print(\"使用K近邻，将第1500个点最近的5000个点设置为蓝色\")\n",
    "k = 5000    # 设置K的大小\n",
    "[num_k, idx_k, _] = pcd_tree.search_knn_vector_3d(pcd.points[1500], k)    # 返回邻域点的个数和索引\n",
    "np.asarray(pcd.colors)[idx_k[1:], :] = [0, 0, 1]  # 跳过最近邻点（查询点本身）进行赋色\n",
    "print(\"k邻域内的点数为：\", num_k)\n",
    "\n",
    "# 使用半径R近邻，将第1500个点半径（0.02）范围内的点设置为红色\n",
    "print(\"使用半径R近邻，将第15000个点半径（0.02）范围内的点设置为红色\")\n",
    "radius = 0.02   # 设置半径大小\n",
    "[num_radius, idx_radius, _] = pcd_tree.search_radius_vector_3d(pcd.points[1500], radius)   # 返回邻域点的个数和索引\n",
    "np.asarray(pcd.colors)[idx_radius[1:], :] = [1, 0, 0]  # 跳过最近邻点（查询点本身）进行赋色\n",
    "print(\"半径r邻域内的点数为：\", num_radius)\n",
    "\n",
    "# 使用混合邻域，将半径R邻域内不超过max_num个点设置为绿色\n",
    "print(\"使用混合邻域，将第15000个点半径R邻域内不超过max_num个点设置为绿色\")\n",
    "max_nn = 200   # 半径R邻域内最大点数\n",
    "[num_hybrid, idx_hybrid, _] = pcd_tree.search_hybrid_vector_3d(pcd.points[1500], radius, max_nn)\n",
    "np.asarray(pcd.colors)[idx_hybrid[1:], :] = [0, 1, 0]  # 跳过最近邻点（查询点本身）进行赋色\n",
    "print(\"混合邻域内的点数为：\", num_hybrid)\n",
    "\n",
    "print(\"->正在可视化点云...\")\n",
    "o3d.visualization.draw_geometries([pcd])\n",
    " "
   ]
  },
  {
   "cell_type": "code",
   "execution_count": 7,
   "id": "5a19a0ce",
   "metadata": {},
   "outputs": [
    {
     "name": "stdout",
     "output_type": "stream",
     "text": [
      "->正在加载点云... \n",
      "PointCloud with 35947 points.\n",
      "->正在剔除隐藏点...\n",
      "定义隐藏点去除的参数\n",
      "->可视点个数为： PointCloud with 11490 points.\n",
      "->隐藏点个数为： PointCloud with 24457 points.\n",
      "->正在可视化可视点和隐藏点点云...\n"
     ]
    }
   ],
   "source": [
    "# 隐藏点剔除\n",
    "# 假设希望从给定的视点清染点云，但背号中的点会泄漏到前景中，\n",
    "# 因为它们不会被其他点遮挡。为此，我们可以应用隐藏点移除算法在Open3D中，\n",
    "# 实现了[Katz2007]的方法，该方法从给定视图近似点云的可见性，无需曲面重建或法线估计。\n",
    "print(\"->正在加载点云... \")\n",
    "pcd = o3d.io.read_point_cloud(\"imgs/rabbit.pcd\")\n",
    "print(pcd)\n",
    "\n",
    "print(\"->正在剔除隐藏点...\")\n",
    "\n",
    "diameter = np.linalg.norm(np.asarray(pcd.get_max_bound()) - np.asarray(pcd.get_min_bound()))\n",
    "print(\"定义隐藏点去除的参数\")\n",
    "camera = [0, 0, diameter]       # 视点位置\n",
    "radius = diameter * 100         # 噪声点云半径,The radius of the sperical projection\n",
    "_, pt_map = pcd.hidden_point_removal(camera, radius)    # 获取视点位置能看到的所有点的索引 pt_map\n",
    "\n",
    "# 可视点点云\n",
    "pcd_visible = pcd.select_by_index(pt_map)\n",
    "pcd_visible.paint_uniform_color([0, 0, 1])\t# 可视点为蓝色\n",
    "print(\"->可视点个数为：\", pcd_visible)\n",
    "# 隐藏点点云\n",
    "pcd_hidden = pcd.select_by_index(pt_map, invert = True)\n",
    "pcd_hidden.paint_uniform_color([1, 0, 0])\t# 隐藏点为红色\n",
    "print(\"->隐藏点个数为：\", pcd_hidden)\n",
    "print(\"->正在可视化可视点和隐藏点点云...\")\n",
    "#o3d.visualization.draw_geometries([pcd_visible, pcd_hidden])\n",
    "o3d.visualization.draw_geometries([pcd_visible])\n"
   ]
  },
  {
   "cell_type": "code",
   "execution_count": 8,
   "id": "bb53f40a",
   "metadata": {},
   "outputs": [
    {
     "name": "stdout",
     "output_type": "stream",
     "text": [
      "alpha=0.010\n"
     ]
    }
   ],
   "source": [
    "# 点云曲面重建\n",
    "# 在许多情况下，我们希望生成密集的三维几何体，即三角形网格。\n",
    "# 然而，从多视图立体方法或深度传感器中，我们只能获得非结构化点云。\n",
    "# 要从非结构化输入中获得三角形网格，我们需要执行曲面重建\n",
    "\n",
    "# ------------------------- Alpha shapes -----------------------\n",
    "# 这里可以玩一下另外两个数\n",
    "# alpha = 0.05\n",
    "# alpha = 0.03\n",
    "alpha = 0.01\n",
    "print(f\"alpha={alpha:.3f}\")\n",
    "mesh = o3d.geometry.TriangleMesh.create_from_point_cloud_alpha_shape(pcd, alpha)\n",
    "mesh.compute_vertex_normals()\n",
    "o3d.visualization.draw_geometries([mesh], mesh_show_back_face=True)\n",
    "# ==============================================================\n"
   ]
  },
  {
   "cell_type": "code",
   "execution_count": 9,
   "id": "ffd9bb3f",
   "metadata": {},
   "outputs": [
    {
     "name": "stdout",
     "output_type": "stream",
     "text": [
      "run Poisson surface reconstruction\n",
      "[Open3D DEBUG] Input Points / Samples: 35947 / 35946\n",
      "[Open3D DEBUG] #   Got kernel density: 0.458 (s), 495.367 (MB) / 495.367 (MB) / 495 (MB)\n",
      "[Open3D DEBUG] #     Got normal field: 0.124 (s), 622.52 (MB) / 622.52 (MB) / 622 (MB)\n",
      "[Open3D DEBUG] Point weight / Estimated Area: 8.608736e-05 / 3.094582e+00\n",
      "[Open3D DEBUG] #       Finalized tree: 0.506000 (s), 628.953 (MB) / 628.953 (MB) / 761 (MB)\n",
      "[Open3D DEBUG] #  Set FEM constraints: 0.098 (s), 501.348 (MB) / 628.953 (MB) / 761 (MB)\n",
      "[Open3D DEBUG] #Set point constraints: 0.0900002 (s), 495.23 (MB) / 628.953 (MB) / 761 (MB)\n",
      "[Open3D DEBUG] Leaf Nodes / Active Nodes / Ghost Nodes: 4910270 / 356360 / 5255377\n",
      "[Open3D DEBUG] Memory Usage: 495.230 MB\n",
      "[Open3D DEBUG] # Linear system solved: 0.699 (s), 511.215 (MB) / 628.953 (MB) / 761 (MB)\n",
      "[Open3D DEBUG] Got average: 0.023 (s), 508.488 (MB) / 628.953 (MB) / 761 (MB)\n",
      "[Open3D DEBUG] Iso-Value: 5.001479e-01 = 1.797882e+04 / 3.594700e+04\n",
      "[Open3D DEBUG] #          Total Solve:       3.1 (s),     629.0 (MB)\n",
      "TriangleMesh with 66017 points and 131842 triangles.\n"
     ]
    }
   ],
   "source": [
    "# ------------------------- Ball pivoting --------------------------\n",
    "print('run Poisson surface reconstruction')\n",
    "radius = 0.001   # 搜索半径\n",
    "max_nn = 30         # 邻域内用于估算法线的最大点数\n",
    "pcd.estimate_normals(search_param=o3d.geometry.KDTreeSearchParamHybrid(radius, max_nn))     # 执行法线估计\n",
    "\n",
    "with o3d.utility.VerbosityContextManager(o3d.utility.VerbosityLevel.Debug) as cm:\n",
    "    mesh, densities = o3d.geometry.TriangleMesh.create_from_point_cloud_poisson(pcd, depth=12)\n",
    "print(mesh)\n",
    "o3d.visualization.draw_geometries([mesh])\n",
    "# ==============================================================\n"
   ]
  },
  {
   "cell_type": "code",
   "execution_count": 10,
   "id": "4c2ea9a7",
   "metadata": {},
   "outputs": [
    {
     "name": "stdout",
     "output_type": "stream",
     "text": [
      "pcd质心：[-0.02675991  0.09521606  0.00894711]\n",
      "\n",
      "->沿X轴平移0.2m\n",
      "PointCloud with 35947 points.\n",
      "pcd_tx质心：[0.17324009 0.09521606 0.00894711]\n",
      "\n",
      "->沿Y轴平移0.2m\n",
      "PointCloud with 35947 points.\n",
      "pcd_ty质心：[0.17324009 0.29521606 0.00894711]\n",
      "\n",
      "->沿X轴平移-0.2m，再沿Y轴平移0.2m\n",
      "PointCloud with 35947 points.\n",
      "pcd_txy质心： [-0.22675991  0.29521606  0.00894711]\n"
     ]
    }
   ],
   "source": [
    "# 点云空间变换\n",
    "# 平移\n",
    "import copy  # 点云深拷贝\n",
    "\n",
    "\n",
    "print(f'pcd质心：{pcd.get_center()}')\n",
    "# ===========================================================\n",
    "\n",
    "# -------------------------- 点云平移 ------------------------\n",
    "print(\"\\n->沿X轴平移0.2m\")\n",
    "pcd_tx = copy.deepcopy(pcd).translate((0.2, 0, 0))\n",
    "pcd_tx.paint_uniform_color([1, 0, 0])\n",
    "print(pcd_tx)\n",
    "print(f'pcd_tx质心：{pcd_tx.get_center()}')\n",
    "\n",
    "print(\"\\n->沿Y轴平移0.2m\")\n",
    "pcd_ty = copy.deepcopy(pcd_tx).translate((0, 0.2, 0))\n",
    "pcd_ty.paint_uniform_color([0, 1, 0])\n",
    "print(pcd_ty)\n",
    "print(f'pcd_ty质心：{pcd_ty.get_center()}')\n",
    "\n",
    "print(\"\\n->沿X轴平移-0.2m，再沿Y轴平移0.2m\")\n",
    "pcd_txy = copy.deepcopy(pcd).translate((-0.2, 0.2, 0))\n",
    "pcd_txy.paint_uniform_color([0, 0, 1])\n",
    "print(pcd_txy)\n",
    "print('pcd_txy质心：', pcd_txy.get_center())\n",
    "# ===========================================================\n",
    "\n",
    "# -------------------------- 可视化 --------------------------\n",
    "#o3d.visualization.draw_geometries([pcd, pcd_tx, pcd_ty, pcd_txy])\n",
    "o3d.visualization.draw_geometries([pcd, pcd_tx])\n",
    "\n",
    "# ===========================================================\n"
   ]
  },
  {
   "cell_type": "code",
   "execution_count": 11,
   "id": "4ff2d90f",
   "metadata": {},
   "outputs": [
    {
     "name": "stdout",
     "output_type": "stream",
     "text": [
      "\n",
      "->沿X轴平移0.2m\n",
      "PointCloud with 35947 points.\n",
      "pcd_tx质心：[0.17324009 0.29521606 0.20894711]\n",
      "\n",
      "->将点云质心平移到指定位置\n",
      "PointCloud with 35947 points.\n",
      "pcd_new：[0.2 0.2 0.2]\n"
     ]
    }
   ],
   "source": [
    "# 将点云质心平移到指定位置\n",
    "\n",
    "# -------------------------- 点云平移 ------------------------\n",
    "print(\"\\n->沿X轴平移0.2m\")\n",
    "pcd_tx = copy.deepcopy(pcd).translate((0.2, 0.2, 0.2))\n",
    "pcd_tx.paint_uniform_color([1, 0, 0])\n",
    "print(pcd_tx)\n",
    "print(f'pcd_tx质心：{pcd_tx.get_center()}')\n",
    "\n",
    "print(\"\\n->将点云质心平移到指定位置\")\n",
    "pcd_new = copy.deepcopy(pcd_tx).translate((0.2, 0.2, 0.2),relative=False)\n",
    "#pcd_new = copy.deepcopy(pcd_tx).translate((0.2, 0.2, 0.2),False)  # relative 可以省略\n",
    "pcd_new.paint_uniform_color([0, 1, 0])\n",
    "print(pcd_new)\n",
    "print(f'pcd_new：{pcd_new.get_center()}')\n",
    "# ===========================================================\n",
    "\n",
    "# -------------------------- 可视化 --------------------------\n",
    "o3d.visualization.draw_geometries([pcd, pcd_tx, pcd_new])\n",
    "# ===========================================================\n"
   ]
  },
  {
   "cell_type": "code",
   "execution_count": 12,
   "id": "9ca41cc5",
   "metadata": {},
   "outputs": [
    {
     "name": "stdout",
     "output_type": "stream",
     "text": [
      "->pcd质心： [-0.02675991  0.09521606  0.00894711]\n",
      "\n",
      "->采用欧拉角进行点云旋转\n",
      "旋转矩阵：\n",
      " [[ 6.123234e-17  0.000000e+00  1.000000e+00]\n",
      " [ 0.000000e+00  1.000000e+00  0.000000e+00]\n",
      " [-1.000000e+00  0.000000e+00  6.123234e-17]]\n",
      "\n",
      "->pcd_EulerAngle质心： [-0.02675991  0.09521606  0.00894711]\n"
     ]
    }
   ],
   "source": [
    "# 旋转\n",
    "# 未指定旋转中心，默认以点云质心为旋转中心，旋转前后点云质心不变\n",
    "\n",
    "# -------------------------- 加载点云 ------------------------\n",
    "pcd.paint_uniform_color([1,0,0])\n",
    "print(\"->pcd质心：\",pcd.get_center())\n",
    "# ===========================================================\n",
    "\n",
    "# -------------------------- 点云旋转 ------------------------\n",
    "print(\"\\n->采用欧拉角进行点云旋转\")\n",
    "pcd_EulerAngle = copy.deepcopy(pcd)\n",
    "R1 = pcd.get_rotation_matrix_from_xyz((0,np.pi/2,0))\n",
    "print(\"旋转矩阵：\\n\",R1)\n",
    "pcd_EulerAngle.rotate(R1)    # 不指定旋转中心\n",
    "pcd_EulerAngle.paint_uniform_color([0,0,1])\n",
    "print(\"\\n->pcd_EulerAngle质心：\",pcd_EulerAngle.get_center())\n",
    "# ===========================================================\n",
    "\n",
    "# -------------------------- 可视化 --------------------------\n",
    "o3d.visualization.draw_geometries([pcd, pcd_EulerAngle])\n",
    "# ===========================================================\n"
   ]
  },
  {
   "cell_type": "code",
   "execution_count": 13,
   "id": "60989f29",
   "metadata": {},
   "outputs": [
    {
     "name": "stdout",
     "output_type": "stream",
     "text": [
      "PointCloud with 35947 points.\n",
      "->pcd质心： [-0.02675991  0.09521606  0.00894711]\n",
      "\n",
      "->采用欧拉角进行点云旋转\n",
      "旋转矩阵：\n",
      " [[ 6.123234e-17  0.000000e+00  1.000000e+00]\n",
      " [ 0.000000e+00  1.000000e+00  0.000000e+00]\n",
      " [-1.000000e+00  0.000000e+00  6.123234e-17]]\n",
      "\n",
      "->pcd_EulerAngle质心： [0.00894711 0.09521606 0.22675991]\n"
     ]
    }
   ],
   "source": [
    "# 指定旋转中心，旋转前后点云质心改变\n",
    "# -------------------------- 加载点云 ------------------------\n",
    "print(pcd)\n",
    "pcd.paint_uniform_color([1,0,0])\n",
    "print(\"->pcd质心：\",pcd.get_center())\n",
    "# ===========================================================\n",
    "\n",
    "# -------------------------- 点云旋转 ------------------------\n",
    "print(\"\\n->采用欧拉角进行点云旋转\")\n",
    "pcd_EulerAngle = copy.deepcopy(pcd)\n",
    "R1 = pcd.get_rotation_matrix_from_xyz((0,np.pi/2,0))\n",
    "print(\"旋转矩阵：\\n\",R1)\n",
    "pcd_EulerAngle.rotate(R1,center = (0.1,0.1,0.1))    # 指定旋转中心\n",
    "pcd_EulerAngle.paint_uniform_color([0,0,1])\n",
    "print(\"\\n->pcd_EulerAngle质心：\",pcd_EulerAngle.get_center())\n",
    "# ===========================================================\n",
    "\n",
    "# -------------------------- 可视化 --------------------------\n",
    "o3d.visualization.draw_geometries([pcd, pcd_EulerAngle])\n",
    "# ===========================================================\n"
   ]
  },
  {
   "cell_type": "code",
   "execution_count": 14,
   "id": "8f37ae3c",
   "metadata": {},
   "outputs": [
    {
     "name": "stdout",
     "output_type": "stream",
     "text": [
      "->正在加载点云... \n",
      "PointCloud with 35947 points.\n",
      "->正在计算点云轴向最小包围盒...\n",
      "->正在计算点云最小包围盒...\n"
     ]
    }
   ],
   "source": [
    "# 计算点云最小包围盒\n",
    "print(\"->正在加载点云... \")\n",
    "pcd = o3d.io.read_point_cloud(\"imgs/rabbit.pcd\")\n",
    "print(pcd)\n",
    "\n",
    "coordinate_frame = o3d.geometry.TriangleMesh.create_coordinate_frame(size=0.1, origin=[0, 0, 0])\n",
    "print(\"->正在计算点云轴向最小包围盒...\")\n",
    "aabb = pcd.get_axis_aligned_bounding_box()\n",
    "aabb.color = (1, 0, 0)\n",
    "print(\"->正在计算点云最小包围盒...\")\n",
    "obb = pcd.get_oriented_bounding_box()\n",
    "obb.color = (0, 1, 0)\n",
    "o3d.visualization.draw_geometries([pcd, aabb, obb, coordinate_frame])\n"
   ]
  },
  {
   "cell_type": "code",
   "execution_count": 15,
   "id": "2b954a34",
   "metadata": {},
   "outputs": [
    {
     "name": "stdout",
     "output_type": "stream",
     "text": [
      "->正在加载点云... \n",
      "PointCloud with 35947 points.\n",
      "->正在计算点云凸包...\n"
     ]
    }
   ],
   "source": [
    "# 计算点云凸包\n",
    "# 点云的凸包是包含所有点的最小凸集。0pen3D 包含计算点云凸包的 compute_convex_hu11 方法。该实现基于Qhul。\n",
    "\n",
    "print(\"->正在加载点云... \")\n",
    "pcd = o3d.io.read_point_cloud(\"imgs/rabbit.pcd\")\n",
    "print(pcd)\n",
    "\n",
    "print(\"->正在计算点云凸包...\")\n",
    "hull, _ = pcd.compute_convex_hull()\n",
    "hull_ls = o3d.geometry.LineSet.create_from_triangle_mesh(hull)\n",
    "hull_ls.paint_uniform_color((1, 0, 0))\n",
    "o3d.visualization.draw_geometries([pcd, hull_ls])\n"
   ]
  },
  {
   "cell_type": "code",
   "execution_count": 16,
   "id": "3305cf50",
   "metadata": {},
   "outputs": [
    {
     "name": "stdout",
     "output_type": "stream",
     "text": [
      "执行体素化点云\n",
      "正在可视化体素...\n"
     ]
    }
   ],
   "source": [
    "# 点云体素化\n",
    "\n",
    "# --------------------------- 体素化点云 -------------------------\n",
    "print('执行体素化点云')\n",
    "voxel_grid = o3d.geometry.VoxelGrid.create_from_point_cloud(pcd, voxel_size=0.005)\n",
    "print(\"正在可视化体素...\")\n",
    "o3d.visualization.draw_geometries([voxel_grid])\n",
    "# ==============================================================\n"
   ]
  },
  {
   "cell_type": "code",
   "execution_count": 17,
   "id": "532950d8",
   "metadata": {},
   "outputs": [
    {
     "name": "stdout",
     "output_type": "stream",
     "text": [
      "->正在点云赋色...\n",
      "->正在可视化赋色后的点云...\n",
      "->正在保存赋色后的点云\n"
     ]
    },
    {
     "data": {
      "text/plain": [
       "True"
      ]
     },
     "execution_count": 17,
     "metadata": {},
     "output_type": "execute_result"
    }
   ],
   "source": [
    "pcd_new = copy.deepcopy(pcd_tx).translate((0.2, 0.2, 0.2),relative=False)# 点云赋色\n",
    "\n",
    "print(\"->正在点云赋色...\")\n",
    "pcd.paint_uniform_color([1,0.706,0])\n",
    "print(\"->正在可视化赋色后的点云...\")\n",
    "o3d.visualization.draw_geometries([pcd])\n",
    "\n",
    "print(\"->正在保存赋色后的点云\")\n",
    "o3d.io.write_point_cloud(\"imgs/color.pcd\", pcd)\t# 默认false，保存为Binarty；True 保存为ASICC形式\n"
   ]
  },
  {
   "cell_type": "code",
   "execution_count": null,
   "id": "5a231017",
   "metadata": {},
   "outputs": [],
   "source": []
  }
 ],
 "metadata": {
  "kernelspec": {
   "display_name": "data",
   "language": "python",
   "name": "python3"
  },
  "language_info": {
   "codemirror_mode": {
    "name": "ipython",
    "version": 3
   },
   "file_extension": ".py",
   "mimetype": "text/x-python",
   "name": "python",
   "nbconvert_exporter": "python",
   "pygments_lexer": "ipython3",
   "version": "3.8.20"
  }
 },
 "nbformat": 4,
 "nbformat_minor": 5
}
